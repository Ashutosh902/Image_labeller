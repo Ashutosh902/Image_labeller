{
 "cells": [
  {
   "cell_type": "code",
   "execution_count": 11,
   "metadata": {},
   "outputs": [
    {
     "name": "stdout",
     "output_type": "stream",
     "text": [
      "PLease enter the image name you want to label without giving .jpg extension\n",
      "frame0\n"
     ]
    },
    {
     "data": {
      "application/vnd.jupyter.widget-view+json": {
       "model_id": "781cfd38379843a7a66dad261b419377",
       "version_major": 2,
       "version_minor": 0
      },
      "text/plain": [
       "RadioButtons(description='FOLDER :-', options=('RED', 'WHITE', 'YELLOW'), value='RED')"
      ]
     },
     "metadata": {},
     "output_type": "display_data"
    }
   ],
   "source": [
    "import cv2\n",
    "import numpy as np\n",
    "import matplotlib.pyplot as plt\n",
    "import ipywidgets as widgets\n",
    "\n",
    "print('PLease enter the image name you want to label without giving .jpg extension')\n",
    "image_name = input()\n",
    "\n",
    "selection= widgets.RadioButtons(\n",
    "        options=['CORNFLAKES', 'SPECIAL_K', 'CHOCOS','OTHERS'],\n",
    "        description='FOLDER :-',\n",
    "        disabled=False)\n",
    "selection"
   ]
  },
  {
   "cell_type": "code",
   "execution_count": 14,
   "metadata": {},
   "outputs": [],
   "source": [
    "axis= []\n",
    "def drag_and_crop(event, X,Y,flags,param):\n",
    "\n",
    "    global axis\n",
    "    if event == cv2.EVENT_LBUTTONDOWN:\n",
    "        str1 = str(X)+ ','+str(Y)\n",
    "        font = cv2.FONT_HERSHEY_SIMPLEX\n",
    "        #cv2.putText(img_crop, str1,(X,Y),font,1,(255,140,0),1)\n",
    "        axis = [(X,Y)]\n",
    "\n",
    "\n",
    "    elif event == cv2.EVENT_LBUTTONUP:\n",
    "        axis.append((X,Y))\n",
    "        str2 = str(X)+ ','+str(Y)\n",
    "        font = cv2.FONT_HERSHEY_SIMPLEX\n",
    "        #cv2.putText(img_crop, str2,(X,Y),font,1,(255,140,0),1)\n",
    "        cv2.rectangle(img_crop, axis[0], axis[1], (0, 255, 0), 1)\n",
    "        cv2.imshow(\"image\", img_crop)\n",
    "\n",
    "image_folder = selection.value\n",
    "\n",
    "img_crop = cv2.imread(f'C:/Users/ashut/Downloads/Telegram_Desktop/data/{image_name}.jpg')\n",
    "cv2.imshow('image',img_crop)\n",
    "\n",
    "while True:\n",
    "    cv2.setMouseCallback('image',drag_and_crop)\n",
    "    cv2.waitKey(0)\n",
    "    cropped_img = img_crop.copy()\n",
    "\n",
    "\n",
    "    if len(axis) == 2:\n",
    "        cropped_img = img_crop[axis[0][1]:axis[1][1],axis[0][0]:axis[1][0]]\n",
    "        #cv2.imshow('image_1', cropped_img)\n",
    "        cv2.imwrite(f'C:/Users/ashut/Anaconda3/Code/Machine_Learning/OpenCV/{image_folder}/{image_name}_{axis[0][0]}_{axis[0][1]}_{axis[1][0]}_{axis[1][1]}.jpg',cropped_img)\n",
    "        x = cv2.waitKey(0)\n",
    "        if x == 113:\n",
    "            cv2.destroyWindow('image_1')\n",
    "        else:\n",
    "            cv2.destroyWindow('image_1')\n",
    "            break\n",
    "        \n",
    "\n",
    "cv2.waitKey(0)\n",
    "cv2.destroyAllWindows()"
   ]
  },
  {
   "cell_type": "code",
   "execution_count": null,
   "metadata": {},
   "outputs": [],
   "source": []
  }
 ],
 "metadata": {
  "kernelspec": {
   "display_name": "Python 3",
   "language": "python",
   "name": "python3"
  },
  "language_info": {
   "codemirror_mode": {
    "name": "ipython",
    "version": 3
   },
   "file_extension": ".py",
   "mimetype": "text/x-python",
   "name": "python",
   "nbconvert_exporter": "python",
   "pygments_lexer": "ipython3",
   "version": "3.6.9"
  }
 },
 "nbformat": 4,
 "nbformat_minor": 2
}
